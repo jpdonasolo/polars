{
 "cells": [
  {
   "cell_type": "markdown",
   "metadata": {},
   "source": [
    "# Expressions and contexts"
   ]
  },
  {
   "cell_type": "code",
   "execution_count": 1,
   "metadata": {},
   "outputs": [
    {
     "name": "stdout",
     "output_type": "stream",
     "text": [
      "shape: (5,)\n",
      "Series: 'my_nums' [u32]\n",
      "[\n",
      "\t1\n",
      "\t2\n",
      "\t3\n",
      "\t4\n",
      "\t5\n",
      "]\n"
     ]
    }
   ],
   "source": [
    "import polars as pl\n",
    "\n",
    "s = pl.Series(\"my_nums\", [1, 2, 3, 4, 5], dtype=pl.UInt32)\n",
    "print(s)"
   ]
  },
  {
   "cell_type": "code",
   "execution_count": 2,
   "metadata": {},
   "outputs": [
    {
     "name": "stdout",
     "output_type": "stream",
     "text": [
      "shape: (4, 4)\n",
      "┌────────────────┬────────────┬────────┬────────┐\n",
      "│ name           ┆ birthdate  ┆ weight ┆ height │\n",
      "│ ---            ┆ ---        ┆ ---    ┆ ---    │\n",
      "│ str            ┆ date       ┆ f64    ┆ f64    │\n",
      "╞════════════════╪════════════╪════════╪════════╡\n",
      "│ Alice Archer   ┆ 1997-01-10 ┆ 57.9   ┆ 1.56   │\n",
      "│ Ben Brown      ┆ 1985-02-15 ┆ 72.5   ┆ 1.77   │\n",
      "│ Chloe Cooper   ┆ 1983-03-22 ┆ 53.6   ┆ 1.65   │\n",
      "│ Daniel Donovan ┆ 1981-04-30 ┆ 83.1   ┆ 1.75   │\n",
      "└────────────────┴────────────┴────────┴────────┘\n"
     ]
    }
   ],
   "source": [
    "from datetime import date\n",
    "\n",
    "df = pl.DataFrame(\n",
    "    {\n",
    "        \"name\": [\"Alice Archer\", \"Ben Brown\", \"Chloe Cooper\", \"Daniel Donovan\"],\n",
    "        \"birthdate\": [\n",
    "            date(1997, 1, 10),\n",
    "            date(1985, 2, 15),\n",
    "            date(1983, 3, 22),\n",
    "            date(1981, 4, 30),\n",
    "        ],\n",
    "        \"weight\": [57.9, 72.5, 53.6, 83.1],  # (kg)\n",
    "        \"height\": [1.56, 1.77, 1.65, 1.75],  # (m)\n",
    "    }\n",
    ")\n",
    "\n",
    "print(df)"
   ]
  },
  {
   "cell_type": "code",
   "execution_count": 3,
   "metadata": {},
   "outputs": [
    {
     "name": "stdout",
     "output_type": "stream",
     "text": [
      "Rows: 4\n",
      "Columns: 4\n",
      "$ name       <str> 'Alice Archer', 'Ben Brown', 'Chloe Cooper', 'Daniel Donovan'\n",
      "$ birthdate <date> 1997-01-10, 1985-02-15, 1983-03-22, 1981-04-30\n",
      "$ weight     <f64> 57.9, 72.5, 53.6, 83.1\n",
      "$ height     <f64> 1.56, 1.77, 1.65, 1.75\n",
      "\n",
      "None\n"
     ]
    }
   ],
   "source": [
    "print(df.glimpse())"
   ]
  },
  {
   "cell_type": "code",
   "execution_count": 4,
   "metadata": {},
   "outputs": [
    {
     "name": "stdout",
     "output_type": "stream",
     "text": [
      "[(col(\"weight\")) / (col(\"height\").pow([dyn int: 2]))].strict_cast(Float32)\n"
     ]
    }
   ],
   "source": [
    "imc = (pl.col(\"weight\") / (pl.col(\"height\") ** 2)).cast(pl.Float32)\n",
    "print(imc)"
   ]
  },
  {
   "cell_type": "code",
   "execution_count": 5,
   "metadata": {},
   "outputs": [
    {
     "name": "stdout",
     "output_type": "stream",
     "text": [
      "shape: (4, 5)\n",
      "┌────────────────┬────────────┬────────┬────────┬───────────┐\n",
      "│ name           ┆ birthdate  ┆ weight ┆ height ┆ imc       │\n",
      "│ ---            ┆ ---        ┆ ---    ┆ ---    ┆ ---       │\n",
      "│ str            ┆ date       ┆ f64    ┆ f64    ┆ f32       │\n",
      "╞════════════════╪════════════╪════════╪════════╪═══════════╡\n",
      "│ Alice Archer   ┆ 1997-01-10 ┆ 57.9   ┆ 1.56   ┆ 23.791914 │\n",
      "│ Ben Brown      ┆ 1985-02-15 ┆ 72.5   ┆ 1.77   ┆ 23.141499 │\n",
      "│ Chloe Cooper   ┆ 1983-03-22 ┆ 53.6   ┆ 1.65   ┆ 19.687786 │\n",
      "│ Daniel Donovan ┆ 1981-04-30 ┆ 83.1   ┆ 1.75   ┆ 27.134693 │\n",
      "└────────────────┴────────────┴────────┴────────┴───────────┘\n",
      "shape: (4, 4)\n",
      "┌───────────┬───────────┬──────────┬───────────┐\n",
      "│ imc       ┆ avg_imc   ┆ imc_std  ┆ imc_norm  │\n",
      "│ ---       ┆ ---       ┆ ---      ┆ ---       │\n",
      "│ f32       ┆ f32       ┆ f32      ┆ f32       │\n",
      "╞═══════════╪═══════════╪══════════╪═══════════╡\n",
      "│ 23.791914 ┆ 23.438972 ┆ 3.051929 ┆ 0.115645  │\n",
      "│ 23.141499 ┆ 23.438972 ┆ 3.051929 ┆ -0.097471 │\n",
      "│ 19.687786 ┆ 23.438972 ┆ 3.051929 ┆ -1.22912  │\n",
      "│ 27.134693 ┆ 23.438972 ┆ 3.051929 ┆ 1.210946  │\n",
      "└───────────┴───────────┴──────────┴───────────┘\n",
      "shape: (2, 4)\n",
      "┌───────────┬───────────┬──────────┬──────────┐\n",
      "│ imc       ┆ avg_imc   ┆ imc_std  ┆ imc_norm │\n",
      "│ ---       ┆ ---       ┆ ---      ┆ ---      │\n",
      "│ f32       ┆ f32       ┆ f32      ┆ f32      │\n",
      "╞═══════════╪═══════════╪══════════╪══════════╡\n",
      "│ 23.791914 ┆ 23.438972 ┆ 3.051929 ┆ 0.115645 │\n",
      "│ 27.134693 ┆ 23.438972 ┆ 3.051929 ┆ 1.210946 │\n",
      "└───────────┴───────────┴──────────┴──────────┘\n",
      "shape: (2, 5)\n",
      "┌────────┬───────────────────────────────┬───────────┬────────────┬────────────┐\n",
      "│ decade ┆ name                          ┆ weight    ┆ avg_weight ┆ avg_height │\n",
      "│ ---    ┆ ---                           ┆ ---       ┆ ---        ┆ ---        │\n",
      "│ i32    ┆ list[str]                     ┆ f32       ┆ f64        ┆ f64        │\n",
      "╞════════╪═══════════════════════════════╪═══════════╪════════════╪════════════╡\n",
      "│ 1980   ┆ [\"Ben Brown\", \"Chloe Cooper\"] ┆ 21.414642 ┆ 63.05      ┆ 1.71       │\n",
      "│ 1990   ┆ [\"Alice Archer\"]              ┆ 23.791914 ┆ 57.9       ┆ 1.56       │\n",
      "└────────┴───────────────────────────────┴───────────┴────────────┴────────────┘\n"
     ]
    }
   ],
   "source": [
    "print(df.with_columns(\n",
    "        imc=imc\n",
    "    ))\n",
    "\n",
    "print(df.select(\n",
    "        imc=imc,\n",
    "        avg_imc=imc.mean(),\n",
    "        imc_std=imc.std(),\n",
    "        imc_norm=(imc - imc.mean()) / imc.std()\n",
    "    ))\n",
    "\n",
    "print(df.select(\n",
    "        imc=imc,\n",
    "        avg_imc=imc.mean(),\n",
    "        imc_std=imc.std(),\n",
    "        imc_norm=(imc - imc.mean()) / imc.std()\n",
    "    ).filter(\n",
    "        pl.col(\"imc_norm\") >= 0\n",
    "    ))\n",
    "\n",
    "\n",
    "decade = (pl.col(\"birthdate\").dt.year() // 10 * 10).alias(\"decade\")\n",
    "name_not_start_with_d = ~(pl.col(\"name\").str.starts_with(\"D\"))\n",
    "avg_h_w = pl.col(\"weight\", \"height\").mean().name.prefix(\"avg_\")\n",
    "print(\n",
    "    df.filter(name_not_start_with_d) \\\n",
    "        .group_by(decade).agg(pl.col(\"name\"), imc.mean(), avg_h_w)\n",
    ")"
   ]
  },
  {
   "cell_type": "markdown",
   "metadata": {},
   "source": [
    "# Lazy API"
   ]
  },
  {
   "cell_type": "code",
   "execution_count": 15,
   "metadata": {},
   "outputs": [],
   "source": [
    "with open(\"data/iris.csv\", \"r\") as f:\n",
    "    data = f.readlines()\n",
    "\n",
    "header = [data[0]]\n",
    "c = data[1:]\n",
    "big_data = c * 10_000\n",
    "\n",
    "with open(\"data/iris_big.csv\", \"w\") as f:\n",
    "    f.writelines(header + big_data)"
   ]
  },
  {
   "cell_type": "code",
   "execution_count": 20,
   "metadata": {},
   "outputs": [
    {
     "name": "stdout",
     "output_type": "stream",
     "text": [
      "82.4 ms ± 3.14 ms per loop (mean ± std. dev. of 5 runs, 10 loops each)\n"
     ]
    }
   ],
   "source": [
    "%%timeit -n 10 -r 5\n",
    "df = pl.read_csv(\"data/iris_big.csv\")\n",
    "df_agg = df.filter(\n",
    "        pl.col(\"sepal_length\") > 5\n",
    "    ).group_by(\"species\").agg(\n",
    "        pl.col(\"sepal_width\").mean()\n",
    "    )"
   ]
  },
  {
   "cell_type": "code",
   "execution_count": 21,
   "metadata": {},
   "outputs": [
    {
     "name": "stdout",
     "output_type": "stream",
     "text": [
      "64.2 ms ± 2.91 ms per loop (mean ± std. dev. of 5 runs, 10 loops each)\n"
     ]
    }
   ],
   "source": [
    "%%timeit -n 10 -r 5\n",
    "df = pl.scan_csv(\"data/iris_big.csv\")\n",
    "df_agg = df.filter(\n",
    "        pl.col(\"sepal_length\") > 5\n",
    "    ).group_by(\"species\").agg(\n",
    "        pl.col(\"sepal_width\").mean()\n",
    "    ).collect()"
   ]
  },
  {
   "cell_type": "code",
   "execution_count": 26,
   "metadata": {},
   "outputs": [
    {
     "name": "stdout",
     "output_type": "stream",
     "text": [
      "AGGREGATE\n",
      "\t[col(\"sepal_width\").mean()] BY [col(\"species\")] FROM\n",
      "  simple π 3/3 [\"sepal_width\", \"species\", ... 1 other column]\n",
      "    Csv SCAN [data/iris_big.csv]\n",
      "    PROJECT 3/5 COLUMNS\n",
      "    SELECTION: [(col(\"sepal_length\")) > (5.0)]\n"
     ]
    }
   ],
   "source": [
    "plan = pl.scan_csv(\"data/iris_big.csv\")\\\n",
    "    .filter(\n",
    "        pl.col(\"sepal_length\") > 5\n",
    "    ).group_by(\"species\").agg(\n",
    "        pl.col(\"sepal_width\").mean()\n",
    "    )\n",
    "\n",
    "print(plan.explain())"
   ]
  }
 ],
 "metadata": {
  "kernelspec": {
   "display_name": ".venv",
   "language": "python",
   "name": "python3"
  },
  "language_info": {
   "codemirror_mode": {
    "name": "ipython",
    "version": 3
   },
   "file_extension": ".py",
   "mimetype": "text/x-python",
   "name": "python",
   "nbconvert_exporter": "python",
   "pygments_lexer": "ipython3",
   "version": "3.12.3"
  }
 },
 "nbformat": 4,
 "nbformat_minor": 2
}
