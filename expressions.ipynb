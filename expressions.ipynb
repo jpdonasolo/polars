{
 "cells": [
  {
   "cell_type": "code",
   "execution_count": 291,
   "metadata": {},
   "outputs": [],
   "source": [
    "import polars as pl\n",
    "import numpy as np\n",
    "import pandas as pd\n",
    "\n",
    "np.random.seed(0)"
   ]
  },
  {
   "cell_type": "code",
   "execution_count": 6,
   "metadata": {},
   "outputs": [],
   "source": [
    "df = pl.DataFrame({\"numbers\": np.random.randint(0, 100_000_000, 100_000_000).tolist()})"
   ]
  },
  {
   "cell_type": "code",
   "execution_count": 7,
   "metadata": {},
   "outputs": [
    {
     "name": "stdout",
     "output_type": "stream",
     "text": [
      "1.25 s ± 108 ms per loop (mean ± std. dev. of 5 runs, 1 loop each)\n"
     ]
    }
   ],
   "source": [
    "%%timeit -n 1 -r 5\n",
    "\n",
    "result = df.select(\n",
    "    pl.col(\"numbers\").n_unique().alias(\"n_unique\"),\n",
    "    # pl.col(\"numbers\").approx_n_unique().alias(\"approx_n_unique\"),\n",
    ")"
   ]
  },
  {
   "cell_type": "code",
   "execution_count": 8,
   "metadata": {},
   "outputs": [
    {
     "name": "stdout",
     "output_type": "stream",
     "text": [
      "272 ms ± 4.84 ms per loop (mean ± std. dev. of 5 runs, 1 loop each)\n"
     ]
    }
   ],
   "source": [
    "%%timeit -n 1 -r 5\n",
    "\n",
    "result = df.select(\n",
    "    # pl.col(\"numbers\").n_unique().alias(\"n_unique\"),\n",
    "    pl.col(\"numbers\").approx_n_unique().alias(\"approx_n_unique\"),\n",
    ")"
   ]
  },
  {
   "cell_type": "code",
   "execution_count": 22,
   "metadata": {},
   "outputs": [
    {
     "name": "stdout",
     "output_type": "stream",
     "text": [
      "shape: (1, 2)\n",
      "┌──────────┬─────────────────┐\n",
      "│ n_unique ┆ approx_n_unique │\n",
      "│ ---      ┆ ---             │\n",
      "│ u32      ┆ u32             │\n",
      "╞══════════╪═════════════════╡\n",
      "│ 63319    ┆ 63192           │\n",
      "└──────────┴─────────────────┘\n"
     ]
    }
   ],
   "source": [
    "df = pl.DataFrame({\"numbers\": np.random.randint(0, 100_000, 100_000).tolist()})\n",
    "\n",
    "result = df.select(\n",
    "    pl.col(\"numbers\").n_unique().alias(\"n_unique\"),\n",
    "    pl.col(\"numbers\").approx_n_unique().alias(\"approx_n_unique\"),\n",
    ")\n",
    "\n",
    "print(result)"
   ]
  },
  {
   "cell_type": "code",
   "execution_count": 23,
   "metadata": {},
   "outputs": [
    {
     "data": {
      "text/plain": [
       "Schema([('numbers', Int64)])"
      ]
     },
     "execution_count": 23,
     "metadata": {},
     "output_type": "execute_result"
    }
   ],
   "source": [
    "df.schema"
   ]
  },
  {
   "cell_type": "code",
   "execution_count": 24,
   "metadata": {},
   "outputs": [
    {
     "data": {
      "text/html": [
       "<div><style>\n",
       ".dataframe > thead > tr,\n",
       ".dataframe > tbody > tr {\n",
       "  text-align: right;\n",
       "  white-space: pre-wrap;\n",
       "}\n",
       "</style>\n",
       "<small>shape: (100_000, 1)</small><table border=\"1\" class=\"dataframe\"><thead><tr><th>numbers</th></tr><tr><td>i64</td></tr></thead><tbody><tr><td>26405</td></tr><tr><td>99043</td></tr><tr><td>4488</td></tr><tr><td>6144</td></tr><tr><td>69291</td></tr><tr><td>&hellip;</td></tr><tr><td>74863</td></tr><tr><td>72030</td></tr><tr><td>13152</td></tr><tr><td>87616</td></tr><tr><td>16467</td></tr></tbody></table></div>"
      ],
      "text/plain": [
       "shape: (100_000, 1)\n",
       "┌─────────┐\n",
       "│ numbers │\n",
       "│ ---     │\n",
       "│ i64     │\n",
       "╞═════════╡\n",
       "│ 26405   │\n",
       "│ 99043   │\n",
       "│ 4488    │\n",
       "│ 6144    │\n",
       "│ 69291   │\n",
       "│ …       │\n",
       "│ 74863   │\n",
       "│ 72030   │\n",
       "│ 13152   │\n",
       "│ 87616   │\n",
       "│ 16467   │\n",
       "└─────────┘"
      ]
     },
     "execution_count": 24,
     "metadata": {},
     "output_type": "execute_result"
    }
   ],
   "source": [
    "df.select(pl.col(\"numbers\"))"
   ]
  },
  {
   "cell_type": "code",
   "execution_count": 29,
   "metadata": {},
   "outputs": [
    {
     "data": {
      "text/html": [
       "<div><style>\n",
       ".dataframe > thead > tr,\n",
       ".dataframe > tbody > tr {\n",
       "  text-align: right;\n",
       "  white-space: pre-wrap;\n",
       "}\n",
       "</style>\n",
       "<small>shape: (100_000, 2)</small><table border=\"1\" class=\"dataframe\"><thead><tr><th>numbers</th><th>Parity</th></tr><tr><td>i64</td><td>str</td></tr></thead><tbody><tr><td>26405</td><td>&quot;Impar&quot;</td></tr><tr><td>99043</td><td>&quot;Impar&quot;</td></tr><tr><td>4488</td><td>&quot;Par&quot;</td></tr><tr><td>6144</td><td>&quot;Par&quot;</td></tr><tr><td>69291</td><td>&quot;Impar&quot;</td></tr><tr><td>&hellip;</td><td>&hellip;</td></tr><tr><td>74863</td><td>&quot;Impar&quot;</td></tr><tr><td>72030</td><td>&quot;Par&quot;</td></tr><tr><td>13152</td><td>&quot;Par&quot;</td></tr><tr><td>87616</td><td>&quot;Par&quot;</td></tr><tr><td>16467</td><td>&quot;Impar&quot;</td></tr></tbody></table></div>"
      ],
      "text/plain": [
       "shape: (100_000, 2)\n",
       "┌─────────┬────────┐\n",
       "│ numbers ┆ Parity │\n",
       "│ ---     ┆ ---    │\n",
       "│ i64     ┆ str    │\n",
       "╞═════════╪════════╡\n",
       "│ 26405   ┆ Impar  │\n",
       "│ 99043   ┆ Impar  │\n",
       "│ 4488    ┆ Par    │\n",
       "│ 6144    ┆ Par    │\n",
       "│ 69291   ┆ Impar  │\n",
       "│ …       ┆ …      │\n",
       "│ 74863   ┆ Impar  │\n",
       "│ 72030   ┆ Par    │\n",
       "│ 13152   ┆ Par    │\n",
       "│ 87616   ┆ Par    │\n",
       "│ 16467   ┆ Impar  │\n",
       "└─────────┴────────┘"
      ]
     },
     "execution_count": 29,
     "metadata": {},
     "output_type": "execute_result"
    }
   ],
   "source": [
    "conditional = pl.when(pl.col(\"numbers\") % 2 == 0).then(pl.lit(\"Par\")).otherwise(pl.lit(\"Impar\")).alias(\"Parity\")\n",
    "\n",
    "df.with_columns(\n",
    "    Parity=conditional\n",
    ")"
   ]
  },
  {
   "cell_type": "code",
   "execution_count": 32,
   "metadata": {},
   "outputs": [
    {
     "name": "stdout",
     "output_type": "stream",
     "text": [
      "shape: (5, 7)\n",
      "┌────────┬───────────────────┬────────┬──────────┬─────────┬───────────┬──────────┐\n",
      "│ ticker ┆ company_name      ┆ price  ┆ day_high ┆ day_low ┆ year_high ┆ year_low │\n",
      "│ ---    ┆ ---               ┆ ---    ┆ ---      ┆ ---     ┆ ---       ┆ ---      │\n",
      "│ str    ┆ str               ┆ f64    ┆ f64      ┆ f64     ┆ f64       ┆ f64      │\n",
      "╞════════╪═══════════════════╪════════╪══════════╪═════════╪═══════════╪══════════╡\n",
      "│ AAPL   ┆ Apple             ┆ 229.9  ┆ 231.31   ┆ 228.6   ┆ 237.23    ┆ 164.08   │\n",
      "│ NVDA   ┆ NVIDIA            ┆ 138.93 ┆ 139.6    ┆ 136.3   ┆ 140.76    ┆ 39.23    │\n",
      "│ MSFT   ┆ Microsoft         ┆ 420.56 ┆ 424.04   ┆ 417.52  ┆ 468.35    ┆ 324.39   │\n",
      "│ GOOG   ┆ Alphabet (Google) ┆ 166.41 ┆ 167.62   ┆ 164.78  ┆ 193.31    ┆ 121.46   │\n",
      "│ AMZN   ┆ Amazon            ┆ 188.4  ┆ 189.83   ┆ 188.44  ┆ 201.2     ┆ 118.35   │\n",
      "└────────┴───────────────────┴────────┴──────────┴─────────┴───────────┴──────────┘\n"
     ]
    }
   ],
   "source": [
    "df = pl.DataFrame(\n",
    "    {  # As of 14th October 2024, ~3pm UTC\n",
    "        \"ticker\": [\"AAPL\", \"NVDA\", \"MSFT\", \"GOOG\", \"AMZN\"],\n",
    "        \"company_name\": [\"Apple\", \"NVIDIA\", \"Microsoft\", \"Alphabet (Google)\", \"Amazon\"],\n",
    "        \"price\": [229.9, 138.93, 420.56, 166.41, 188.4],\n",
    "        \"day_high\": [231.31, 139.6, 424.04, 167.62, 189.83],\n",
    "        \"day_low\": [228.6, 136.3, 417.52, 164.78, 188.44],\n",
    "        \"year_high\": [237.23, 140.76, 468.35, 193.31, 201.2],\n",
    "        \"year_low\": [164.08, 39.23, 324.39, 121.46, 118.35],\n",
    "    }\n",
    ")\n",
    "\n",
    "print(df.head())"
   ]
  },
  {
   "cell_type": "code",
   "execution_count": 33,
   "metadata": {},
   "outputs": [
    {
     "name": "stdout",
     "output_type": "stream",
     "text": [
      "shape: (5, 7)\n",
      "┌────────┬───────────────────┬────────┬──────────┬─────────┬───────────┬──────────┐\n",
      "│ ticker ┆ company_name      ┆ price  ┆ day_high ┆ day_low ┆ year_high ┆ year_low │\n",
      "│ ---    ┆ ---               ┆ ---    ┆ ---      ┆ ---     ┆ ---       ┆ ---      │\n",
      "│ str    ┆ str               ┆ f64    ┆ f64      ┆ f64     ┆ f64       ┆ f64      │\n",
      "╞════════╪═══════════════════╪════════╪══════════╪═════════╪═══════════╪══════════╡\n",
      "│ AAPL   ┆ Apple             ┆ 210.92 ┆ 212.21   ┆ 209.72  ┆ 217.64    ┆ 150.53   │\n",
      "│ NVDA   ┆ NVIDIA            ┆ 127.46 ┆ 128.07   ┆ 125.05  ┆ 129.14    ┆ 35.99    │\n",
      "│ MSFT   ┆ Microsoft         ┆ 385.83 ┆ 389.03   ┆ 383.05  ┆ 429.68    ┆ 297.61   │\n",
      "│ GOOG   ┆ Alphabet (Google) ┆ 152.67 ┆ 153.78   ┆ 151.17  ┆ 177.35    ┆ 111.43   │\n",
      "│ AMZN   ┆ Amazon            ┆ 172.84 ┆ 174.16   ┆ 172.88  ┆ 184.59    ┆ 108.58   │\n",
      "└────────┴───────────────────┴────────┴──────────┴─────────┴───────────┴──────────┘\n"
     ]
    }
   ],
   "source": [
    "eur_usd_rate = 1.09  # As of 14th October 2024\n",
    "\n",
    "result = df.with_columns(\n",
    "    (\n",
    "        pl.col(\n",
    "            \"price\",\n",
    "            \"day_high\",\n",
    "            \"day_low\",\n",
    "            \"year_high\",\n",
    "            \"year_low\",\n",
    "        )\n",
    "        / eur_usd_rate\n",
    "    ).round(2)\n",
    ")\n",
    "print(result)"
   ]
  },
  {
   "cell_type": "code",
   "execution_count": 34,
   "metadata": {},
   "outputs": [
    {
     "name": "stdout",
     "output_type": "stream",
     "text": [
      "shape: (5, 7)\n",
      "┌────────┬───────────────────┬────────┬──────────┬─────────┬───────────┬──────────┐\n",
      "│ ticker ┆ company_name      ┆ price  ┆ day_high ┆ day_low ┆ year_high ┆ year_low │\n",
      "│ ---    ┆ ---               ┆ ---    ┆ ---      ┆ ---     ┆ ---       ┆ ---      │\n",
      "│ str    ┆ str               ┆ f64    ┆ f64      ┆ f64     ┆ f64       ┆ f64      │\n",
      "╞════════╪═══════════════════╪════════╪══════════╪═════════╪═══════════╪══════════╡\n",
      "│ AAPL   ┆ Apple             ┆ 210.92 ┆ 212.21   ┆ 209.72  ┆ 217.64    ┆ 150.53   │\n",
      "│ NVDA   ┆ NVIDIA            ┆ 127.46 ┆ 128.07   ┆ 125.05  ┆ 129.14    ┆ 35.99    │\n",
      "│ MSFT   ┆ Microsoft         ┆ 385.83 ┆ 389.03   ┆ 383.05  ┆ 429.68    ┆ 297.61   │\n",
      "│ GOOG   ┆ Alphabet (Google) ┆ 152.67 ┆ 153.78   ┆ 151.17  ┆ 177.35    ┆ 111.43   │\n",
      "│ AMZN   ┆ Amazon            ┆ 172.84 ┆ 174.16   ┆ 172.88  ┆ 184.59    ┆ 108.58   │\n",
      "└────────┴───────────────────┴────────┴──────────┴─────────┴───────────┴──────────┘\n"
     ]
    }
   ],
   "source": [
    "result = df.with_columns((pl.col(pl.Float64) / eur_usd_rate).round(2))\n",
    "print(result)"
   ]
  },
  {
   "cell_type": "code",
   "execution_count": 35,
   "metadata": {},
   "outputs": [
    {
     "name": "stdout",
     "output_type": "stream",
     "text": [
      "shape: (5, 7)\n",
      "┌────────┬───────────────────┬────────┬──────────┬─────────┬───────────┬──────────┐\n",
      "│ ticker ┆ company_name      ┆ price  ┆ day_high ┆ day_low ┆ year_high ┆ year_low │\n",
      "│ ---    ┆ ---               ┆ ---    ┆ ---      ┆ ---     ┆ ---       ┆ ---      │\n",
      "│ str    ┆ str               ┆ f64    ┆ f64      ┆ f64     ┆ f64       ┆ f64      │\n",
      "╞════════╪═══════════════════╪════════╪══════════╪═════════╪═══════════╪══════════╡\n",
      "│ AAPL   ┆ Apple             ┆ 229.9  ┆ 212.21   ┆ 209.72  ┆ 237.23    ┆ 164.08   │\n",
      "│ NVDA   ┆ NVIDIA            ┆ 138.93 ┆ 128.07   ┆ 125.05  ┆ 140.76    ┆ 39.23    │\n",
      "│ MSFT   ┆ Microsoft         ┆ 420.56 ┆ 389.03   ┆ 383.05  ┆ 468.35    ┆ 324.39   │\n",
      "│ GOOG   ┆ Alphabet (Google) ┆ 166.41 ┆ 153.78   ┆ 151.17  ┆ 193.31    ┆ 121.46   │\n",
      "│ AMZN   ┆ Amazon            ┆ 188.4  ┆ 174.16   ┆ 172.88  ┆ 201.2     ┆ 118.35   │\n",
      "└────────┴───────────────────┴────────┴──────────┴─────────┴───────────┴──────────┘\n"
     ]
    }
   ],
   "source": [
    "result = df.with_columns(\n",
    "    (pl.col(\"^day.*$\") / eur_usd_rate).round(2))\n",
    "print(result)"
   ]
  },
  {
   "cell_type": "code",
   "execution_count": 47,
   "metadata": {},
   "outputs": [
    {
     "name": "stdout",
     "output_type": "stream",
     "text": [
      "shape: (5, 5)\n",
      "┌───────────────────┬───────────────────┬──────────────────┬────────────┬─────────────────────┐\n",
      "│ not a day: ticker ┆ not a day:        ┆ not a day: price ┆ not a day: ┆ not a day: year_low │\n",
      "│ ---               ┆ company_name      ┆ ---              ┆ year_high  ┆ ---                 │\n",
      "│ str               ┆ ---               ┆ f64              ┆ ---        ┆ f64                 │\n",
      "│                   ┆ str               ┆                  ┆ f64        ┆                     │\n",
      "╞═══════════════════╪═══════════════════╪══════════════════╪════════════╪═════════════════════╡\n",
      "│ AAPL              ┆ Apple             ┆ 229.9            ┆ 237.23     ┆ 164.08              │\n",
      "│ NVDA              ┆ NVIDIA            ┆ 138.93           ┆ 140.76     ┆ 39.23               │\n",
      "│ MSFT              ┆ Microsoft         ┆ 420.56           ┆ 468.35     ┆ 324.39              │\n",
      "│ GOOG              ┆ Alphabet (Google) ┆ 166.41           ┆ 193.31     ┆ 121.46              │\n",
      "│ AMZN              ┆ Amazon            ┆ 188.4            ┆ 201.2      ┆ 118.35              │\n",
      "└───────────────────┴───────────────────┴──────────────────┴────────────┴─────────────────────┘\n"
     ]
    }
   ],
   "source": [
    "result = df.select(\n",
    "    pl.all().exclude(\"^day.*$\").name.prefix(\"not a day: \")\n",
    ")\n",
    "print(result)"
   ]
  },
  {
   "cell_type": "code",
   "execution_count": 52,
   "metadata": {},
   "outputs": [
    {
     "name": "stdout",
     "output_type": "stream",
     "text": [
      "shape: (5, 9)\n",
      "┌────────┬──────────────┬────────┬──────────┬───┬───────────┬──────────┬─────────────┬─────────────┐\n",
      "│ ticker ┆ company_name ┆ price  ┆ day_high ┆ … ┆ year_high ┆ year_low ┆ day_amplitu ┆ year_amplit │\n",
      "│ ---    ┆ ---          ┆ ---    ┆ ---      ┆   ┆ ---       ┆ ---      ┆ de          ┆ ude         │\n",
      "│ str    ┆ str          ┆ f64    ┆ f64      ┆   ┆ f64       ┆ f64      ┆ ---         ┆ ---         │\n",
      "│        ┆              ┆        ┆          ┆   ┆           ┆          ┆ f64         ┆ f64         │\n",
      "╞════════╪══════════════╪════════╪══════════╪═══╪═══════════╪══════════╪═════════════╪═════════════╡\n",
      "│ AAPL   ┆ Apple        ┆ 229.9  ┆ 231.31   ┆ … ┆ 237.23    ┆ 164.08   ┆ 2.71        ┆ 73.15       │\n",
      "│ NVDA   ┆ NVIDIA       ┆ 138.93 ┆ 139.6    ┆ … ┆ 140.76    ┆ 39.23    ┆ 3.3         ┆ 101.53      │\n",
      "│ MSFT   ┆ Microsoft    ┆ 420.56 ┆ 424.04   ┆ … ┆ 468.35    ┆ 324.39   ┆ 6.52        ┆ 143.96      │\n",
      "│ GOOG   ┆ Alphabet     ┆ 166.41 ┆ 167.62   ┆ … ┆ 193.31    ┆ 121.46   ┆ 2.84        ┆ 71.85       │\n",
      "│        ┆ (Google)     ┆        ┆          ┆   ┆           ┆          ┆             ┆             │\n",
      "│ AMZN   ┆ Amazon       ┆ 188.4  ┆ 189.83   ┆ … ┆ 201.2     ┆ 118.35   ┆ 1.39        ┆ 82.85       │\n",
      "└────────┴──────────────┴────────┴──────────┴───┴───────────┴──────────┴─────────────┴─────────────┘\n"
     ]
    }
   ],
   "source": [
    "def amplitude_expressions(time_periods):\n",
    "    for tp in time_periods:\n",
    "        yield (pl.col(f\"{tp}_high\") - pl.col(f\"{tp}_low\")).alias(f\"{tp}_amplitude\")\n",
    "\n",
    "result = df.with_columns(amplitude_expressions([\"day\", \"year\"]))\n",
    "print(result)"
   ]
  },
  {
   "cell_type": "code",
   "execution_count": 64,
   "metadata": {},
   "outputs": [
    {
     "name": "stdout",
     "output_type": "stream",
     "text": [
      "cannot create expression literal for value of type String.\n",
      "\n",
      "Hint: Pass `allow_object=True` to accept any value and create a literal of type Object.\n",
      "================\n"
     ]
    },
    {
     "data": {
      "text/html": [
       "<div><style>\n",
       ".dataframe > thead > tr,\n",
       ".dataframe > tbody > tr {\n",
       "  text-align: right;\n",
       "  white-space: pre-wrap;\n",
       "}\n",
       "</style>\n",
       "<small>shape: (5, 2)</small><table border=\"1\" class=\"dataframe\"><thead><tr><th>ticker</th><th>company_name</th></tr><tr><td>str</td><td>str</td></tr></thead><tbody><tr><td>&quot;AAPL&quot;</td><td>&quot;Apple&quot;</td></tr><tr><td>&quot;NVDA&quot;</td><td>&quot;NVIDIA&quot;</td></tr><tr><td>&quot;MSFT&quot;</td><td>&quot;Microsoft&quot;</td></tr><tr><td>&quot;GOOG&quot;</td><td>&quot;Alphabet (Google)&quot;</td></tr><tr><td>&quot;AMZN&quot;</td><td>&quot;Amazon&quot;</td></tr></tbody></table></div>"
      ],
      "text/plain": [
       "shape: (5, 2)\n",
       "┌────────┬───────────────────┐\n",
       "│ ticker ┆ company_name      │\n",
       "│ ---    ┆ ---               │\n",
       "│ str    ┆ str               │\n",
       "╞════════╪═══════════════════╡\n",
       "│ AAPL   ┆ Apple             │\n",
       "│ NVDA   ┆ NVIDIA            │\n",
       "│ MSFT   ┆ Microsoft         │\n",
       "│ GOOG   ┆ Alphabet (Google) │\n",
       "│ AMZN   ┆ Amazon            │\n",
       "└────────┴───────────────────┘"
      ]
     },
     "execution_count": 64,
     "metadata": {},
     "output_type": "execute_result"
    }
   ],
   "source": [
    "import polars.selectors as cs\n",
    "\n",
    "try:\n",
    "    df.select(pl.String())\n",
    "except TypeError as e:\n",
    "    print(e)\n",
    "\n",
    "print(\"================\")\n",
    "df.select(cs.string())"
   ]
  },
  {
   "cell_type": "code",
   "execution_count": 67,
   "metadata": {},
   "outputs": [
    {
     "name": "stdout",
     "output_type": "stream",
     "text": [
      "True\n",
      "False\n"
     ]
    }
   ],
   "source": [
    "print(cs.is_selector(cs.starts_with(\"adorei\")))\n",
    "print(cs.is_selector(cs.starts_with(\"adorei\").as_expr()))"
   ]
  },
  {
   "cell_type": "code",
   "execution_count": 69,
   "metadata": {},
   "outputs": [
    {
     "name": "stdout",
     "output_type": "stream",
     "text": [
      "('has_partner', 'has_kids', 'has_tattoos')\n"
     ]
    }
   ],
   "source": [
    "people = pl.DataFrame(\n",
    "    {\n",
    "        \"name\": [\"Anna\", \"Bob\"],\n",
    "        \"has_partner\": [True, False],\n",
    "        \"has_kids\": [False, False],\n",
    "        \"has_tattoos\": [True, False],\n",
    "        \"is_alive\": [True, True],\n",
    "    }\n",
    ")\n",
    "\n",
    "print(\n",
    "    cs.expand_selector(\n",
    "        people,\n",
    "        cs.starts_with(\"has_\"),\n",
    "    )\n",
    ")"
   ]
  },
  {
   "cell_type": "code",
   "execution_count": 87,
   "metadata": {},
   "outputs": [
    {
     "name": "stdout",
     "output_type": "stream",
     "text": [
      "Schema({'numbers': Float64})\n",
      "781.25 kb\n"
     ]
    }
   ],
   "source": [
    "df = pl.DataFrame({\"numbers\": np.random.random(100_000).tolist()})\n",
    "print(df.schema)\n",
    "print(f\"{df.estimated_size('kb'):,} kb\")"
   ]
  },
  {
   "cell_type": "code",
   "execution_count": 88,
   "metadata": {},
   "outputs": [
    {
     "name": "stdout",
     "output_type": "stream",
     "text": [
      "Schema({'numbers': Float32})\n",
      "390.625 kb\n"
     ]
    }
   ],
   "source": [
    "df = pl.DataFrame({\"numbers\": np.random.random(100_000).tolist()})\n",
    "df = df.select(pl.col(\"numbers\").cast(pl.Float32))\n",
    "print(df.schema)\n",
    "print(f\"{df.estimated_size('kb'):,} kb\")"
   ]
  },
  {
   "cell_type": "code",
   "execution_count": 92,
   "metadata": {},
   "outputs": [
    {
     "name": "stdout",
     "output_type": "stream",
     "text": [
      "shape: (2, 3)\n",
      "┌──────────────────┬────────────────┬───────────────────┐\n",
      "│ days_since_epoch ┆ us_since_epoch ┆ ns_since_midnight │\n",
      "│ ---              ┆ ---            ┆ ---               │\n",
      "│ i64              ┆ i64            ┆ i64               │\n",
      "╞══════════════════╪════════════════╪═══════════════════╡\n",
      "│ 0                ┆ 0              ┆ 0                 │\n",
      "│ 9                ┆ 777600000000   ┆ 1000000000        │\n",
      "└──────────────────┴────────────────┴───────────────────┘\n"
     ]
    }
   ],
   "source": [
    "from datetime import date, datetime, time\n",
    "\n",
    "df = pl.DataFrame(\n",
    "    {\n",
    "        \"date\": [\n",
    "            date(1970, 1, 1),  # epoch\n",
    "            date(1970, 1, 10),  # 9 days later\n",
    "        ],\n",
    "        \"datetime\": [\n",
    "            datetime(1970, 1, 1, 0, 0, 0),  # epoch\n",
    "            datetime(1970, 1, 10, 0, 0, 0),  # 9 days later\n",
    "        ],\n",
    "        \"time\": [\n",
    "            time(0, 0, 0),  # reference time\n",
    "            time(0, 0, 1),  # 1 second later\n",
    "        ],\n",
    "    }\n",
    ")\n",
    "\n",
    "result = df.select(\n",
    "    pl.col(\"date\").cast(pl.Int64).alias(\"days_since_epoch\"),\n",
    "    pl.col(\"datetime\").cast(pl.Int64).alias(\"us_since_epoch\"),\n",
    "    pl.col(\"time\").cast(pl.Int64).alias(\"ns_since_midnight\"),\n",
    ")\n",
    "print(result)\n"
   ]
  },
  {
   "cell_type": "code",
   "execution_count": 95,
   "metadata": {},
   "outputs": [
    {
     "data": {
      "text/html": [
       "<div><style>\n",
       ".dataframe > thead > tr,\n",
       ".dataframe > tbody > tr {\n",
       "  text-align: right;\n",
       "  white-space: pre-wrap;\n",
       "}\n",
       "</style>\n",
       "<small>shape: (2, 3)</small><table border=\"1\" class=\"dataframe\"><thead><tr><th>name</th><th>size_in_bytes</th><th>size_in_letters</th></tr><tr><td>str</td><td>u32</td><td>u32</td></tr></thead><tbody><tr><td>&quot;João&quot;</td><td>5</td><td>4</td></tr><tr><td>&quot;Marko&quot;</td><td>5</td><td>5</td></tr></tbody></table></div>"
      ],
      "text/plain": [
       "shape: (2, 3)\n",
       "┌───────┬───────────────┬─────────────────┐\n",
       "│ name  ┆ size_in_bytes ┆ size_in_letters │\n",
       "│ ---   ┆ ---           ┆ ---             │\n",
       "│ str   ┆ u32           ┆ u32             │\n",
       "╞═══════╪═══════════════╪═════════════════╡\n",
       "│ João  ┆ 5             ┆ 4               │\n",
       "│ Marko ┆ 5             ┆ 5               │\n",
       "└───────┴───────────────┴─────────────────┘"
      ]
     },
     "execution_count": 95,
     "metadata": {},
     "output_type": "execute_result"
    }
   ],
   "source": [
    "df = pl.DataFrame({\n",
    "    \"name\": [\"João\", \"Marko\"]\n",
    "})\n",
    "\n",
    "df.with_columns(\n",
    "    size_in_bytes = pl.col(\"name\").str.len_bytes(),\n",
    "    size_in_letters = pl.col(\"name\").str.len_chars()\n",
    ")"
   ]
  },
  {
   "cell_type": "code",
   "execution_count": 96,
   "metadata": {},
   "outputs": [
    {
     "name": "stdout",
     "output_type": "stream",
     "text": [
      "shape: (5, 2)\n",
      "┌───────────┬─────────────────────────────────┐\n",
      "│ station   ┆ temperatures                    │\n",
      "│ ---       ┆ ---                             │\n",
      "│ str       ┆ str                             │\n",
      "╞═══════════╪═════════════════════════════════╡\n",
      "│ Station 1 ┆ 20 5 5 E1 7 13 19 9 6 20        │\n",
      "│ Station 2 ┆ 18 8 16 11 23 E2 8 E2 E2 E2 90… │\n",
      "│ Station 3 ┆ 19 24 E9 16 6 12 10 22          │\n",
      "│ Station 4 ┆ E2 E0 15 7 8 10 E1 24 17 13 6   │\n",
      "│ Station 5 ┆ 14 8 E0 16 22 24 E1             │\n",
      "└───────────┴─────────────────────────────────┘\n"
     ]
    }
   ],
   "source": [
    "weather = pl.DataFrame(\n",
    "    {\n",
    "        \"station\": [f\"Station {idx}\" for idx in range(1, 6)],\n",
    "        \"temperatures\": [\n",
    "            \"20 5 5 E1 7 13 19 9 6 20\",\n",
    "            \"18 8 16 11 23 E2 8 E2 E2 E2 90 70 40\",\n",
    "            \"19 24 E9 16 6 12 10 22\",\n",
    "            \"E2 E0 15 7 8 10 E1 24 17 13 6\",\n",
    "            \"14 8 E0 16 22 24 E1\",\n",
    "        ],\n",
    "    }\n",
    ")\n",
    "\n",
    "print(weather)"
   ]
  },
  {
   "cell_type": "code",
   "execution_count": 109,
   "metadata": {},
   "outputs": [
    {
     "name": "stdout",
     "output_type": "stream",
     "text": [
      "shape: (5, 4)\n",
      "┌───────────┬─────────────────────────────────┬──────────────────────┬──────┐\n",
      "│ station   ┆ temperatures                    ┆ temperatures_list    ┆ size │\n",
      "│ ---       ┆ ---                             ┆ ---                  ┆ ---  │\n",
      "│ str       ┆ str                             ┆ list[str]            ┆ u32  │\n",
      "╞═══════════╪═════════════════════════════════╪══════════════════════╪══════╡\n",
      "│ Station 1 ┆ 20 5 5 E1 7 13 19 9 6 20        ┆ [\"20\", \"5\", … \"20\"]  ┆ 10   │\n",
      "│ Station 2 ┆ 18 8 16 11 23 E2 8 E2 E2 E2 90… ┆ [\"18\", \"8\", … \"40\"]  ┆ 13   │\n",
      "│ Station 3 ┆ 19 24 E9 16 6 12 10 22          ┆ [\"19\", \"24\", … \"22\"] ┆ 8    │\n",
      "│ Station 4 ┆ E2 E0 15 7 8 10 E1 24 17 13 6   ┆ [\"E2\", \"E0\", … \"6\"]  ┆ 11   │\n",
      "│ Station 5 ┆ 14 8 E0 16 22 24 E1             ┆ [\"14\", \"8\", … \"E1\"]  ┆ 7    │\n",
      "└───────────┴─────────────────────────────────┴──────────────────────┴──────┘\n"
     ]
    }
   ],
   "source": [
    "weather = weather.with_columns(\n",
    "    temperatures_list=pl.col(\"temperatures\").str.split(by=\" \"),\n",
    "    size=pl.col(\"temperatures\").str.split(by=\" \").list.len()\n",
    ")\n",
    "print(weather)"
   ]
  },
  {
   "cell_type": "code",
   "execution_count": 135,
   "metadata": {},
   "outputs": [
    {
     "data": {
      "text/html": [
       "<div><style>\n",
       ".dataframe > thead > tr,\n",
       ".dataframe > tbody > tr {\n",
       "  text-align: right;\n",
       "  white-space: pre-wrap;\n",
       "}\n",
       "</style>\n",
       "<small>shape: (5, 6)</small><table border=\"1\" class=\"dataframe\"><thead><tr><th>station</th><th>temperatures</th><th>temperatures_list</th><th>size</th><th>num_errors</th><th>pct_errors</th></tr><tr><td>str</td><td>str</td><td>list[str]</td><td>u32</td><td>u32</td><td>str</td></tr></thead><tbody><tr><td>&quot;Station 1&quot;</td><td>&quot;20 5 5 E1 7 13 19 9 6 20&quot;</td><td>[&quot;20&quot;, &quot;5&quot;, … &quot;20&quot;]</td><td>10</td><td>1</td><td>&quot;10.0%&quot;</td></tr><tr><td>&quot;Station 2&quot;</td><td>&quot;18 8 16 11 23 E2 8 E2 E2 E2 90…</td><td>[&quot;18&quot;, &quot;8&quot;, … &quot;40&quot;]</td><td>13</td><td>4</td><td>&quot;30.8%&quot;</td></tr><tr><td>&quot;Station 3&quot;</td><td>&quot;19 24 E9 16 6 12 10 22&quot;</td><td>[&quot;19&quot;, &quot;24&quot;, … &quot;22&quot;]</td><td>8</td><td>1</td><td>&quot;12.5%&quot;</td></tr><tr><td>&quot;Station 4&quot;</td><td>&quot;E2 E0 15 7 8 10 E1 24 17 13 6&quot;</td><td>[&quot;E2&quot;, &quot;E0&quot;, … &quot;6&quot;]</td><td>11</td><td>3</td><td>&quot;27.3%&quot;</td></tr><tr><td>&quot;Station 5&quot;</td><td>&quot;14 8 E0 16 22 24 E1&quot;</td><td>[&quot;14&quot;, &quot;8&quot;, … &quot;E1&quot;]</td><td>7</td><td>2</td><td>&quot;28.6%&quot;</td></tr></tbody></table></div>"
      ],
      "text/plain": [
       "shape: (5, 6)\n",
       "┌───────────┬──────────────────────────────┬──────────────────────┬──────┬────────────┬────────────┐\n",
       "│ station   ┆ temperatures                 ┆ temperatures_list    ┆ size ┆ num_errors ┆ pct_errors │\n",
       "│ ---       ┆ ---                          ┆ ---                  ┆ ---  ┆ ---        ┆ ---        │\n",
       "│ str       ┆ str                          ┆ list[str]            ┆ u32  ┆ u32        ┆ str        │\n",
       "╞═══════════╪══════════════════════════════╪══════════════════════╪══════╪════════════╪════════════╡\n",
       "│ Station 1 ┆ 20 5 5 E1 7 13 19 9 6 20     ┆ [\"20\", \"5\", … \"20\"]  ┆ 10   ┆ 1          ┆ 10.0%      │\n",
       "│ Station 2 ┆ 18 8 16 11 23 E2 8 E2 E2 E2  ┆ [\"18\", \"8\", … \"40\"]  ┆ 13   ┆ 4          ┆ 30.8%      │\n",
       "│           ┆ 90…                          ┆                      ┆      ┆            ┆            │\n",
       "│ Station 3 ┆ 19 24 E9 16 6 12 10 22       ┆ [\"19\", \"24\", … \"22\"] ┆ 8    ┆ 1          ┆ 12.5%      │\n",
       "│ Station 4 ┆ E2 E0 15 7 8 10 E1 24 17 13  ┆ [\"E2\", \"E0\", … \"6\"]  ┆ 11   ┆ 3          ┆ 27.3%      │\n",
       "│           ┆ 6                            ┆                      ┆      ┆            ┆            │\n",
       "│ Station 5 ┆ 14 8 E0 16 22 24 E1          ┆ [\"14\", \"8\", … \"E1\"]  ┆ 7    ┆ 2          ┆ 28.6%      │\n",
       "└───────────┴──────────────────────────────┴──────────────────────┴──────┴────────────┴────────────┘"
      ]
     },
     "execution_count": 135,
     "metadata": {},
     "output_type": "execute_result"
    }
   ],
   "source": [
    "weather.with_columns(\n",
    "   num_errors=pl.col(\"temperatures_list\").list.eval(pl.element().cast(pl.Int32, strict=False).is_null()).list.sum()\n",
    ").with_columns(\n",
    "    pct_errors=(pl.col(\"num_errors\") / pl.col(\"size\") * 100).round(1).cast(pl.String()) + \"%\"\n",
    ")"
   ]
  },
  {
   "cell_type": "code",
   "execution_count": 160,
   "metadata": {},
   "outputs": [
    {
     "name": "stdout",
     "output_type": "stream",
     "text": [
      "shape: (10, 1)\n",
      "┌──────────────┐\n",
      "│ timeseries   │\n",
      "│ ---          │\n",
      "│ list[i64]    │\n",
      "╞══════════════╡\n",
      "│ [17, 15, 16] │\n",
      "│ [11, 11, 15] │\n",
      "│ [8, 10, 24]  │\n",
      "│ [22, 8, 24]  │\n",
      "│ [9, 7, 8]    │\n",
      "│ [21, 14, 23] │\n",
      "│ [20, 18, 19] │\n",
      "│ [8, 21, 23]  │\n",
      "│ [8, 15, 16]  │\n",
      "│ [17, 13, 10] │\n",
      "└──────────────┘\n",
      "shape: (10, 1)\n",
      "┌────────────┐\n",
      "│ timeseries │\n",
      "│ ---        │\n",
      "│ list[u32]  │\n",
      "╞════════════╡\n",
      "│ [1, 3, 2]  │\n",
      "│ [2, 2, 1]  │\n",
      "│ [3, 2, 1]  │\n",
      "│ [2, 3, 1]  │\n",
      "│ [1, 3, 2]  │\n",
      "│ [2, 3, 1]  │\n",
      "│ [1, 3, 2]  │\n",
      "│ [3, 2, 1]  │\n",
      "│ [3, 2, 1]  │\n",
      "│ [1, 2, 3]  │\n",
      "└────────────┘\n",
      "shape: (10, 5)\n",
      "┌────────────┬───────┬───────┬───────┬────────────┐\n",
      "│ station    ┆ day_1 ┆ day_2 ┆ day_3 ┆ temps_rank │\n",
      "│ ---        ┆ ---   ┆ ---   ┆ ---   ┆ ---        │\n",
      "│ str        ┆ i64   ┆ i64   ┆ i64   ┆ list[u32]  │\n",
      "╞════════════╪═══════╪═══════╪═══════╪════════════╡\n",
      "│ Station 1  ┆ 17    ┆ 15    ┆ 16    ┆ [1, 3, 2]  │\n",
      "│ Station 2  ┆ 11    ┆ 11    ┆ 15    ┆ [2, 2, 1]  │\n",
      "│ Station 3  ┆ 8     ┆ 10    ┆ 24    ┆ [3, 2, 1]  │\n",
      "│ Station 4  ┆ 22    ┆ 8     ┆ 24    ┆ [2, 3, 1]  │\n",
      "│ Station 5  ┆ 9     ┆ 7     ┆ 8     ┆ [1, 3, 2]  │\n",
      "│ Station 6  ┆ 21    ┆ 14    ┆ 23    ┆ [2, 3, 1]  │\n",
      "│ Station 7  ┆ 20    ┆ 18    ┆ 19    ┆ [1, 3, 2]  │\n",
      "│ Station 8  ┆ 8     ┆ 21    ┆ 23    ┆ [3, 2, 1]  │\n",
      "│ Station 9  ┆ 8     ┆ 15    ┆ 16    ┆ [3, 2, 1]  │\n",
      "│ Station 10 ┆ 17    ┆ 13    ┆ 10    ┆ [1, 2, 3]  │\n",
      "└────────────┴───────┴───────┴───────┴────────────┘\n"
     ]
    }
   ],
   "source": [
    "weather_by_day = pl.DataFrame(\n",
    "    {\n",
    "        \"station\": [f\"Station {idx}\" for idx in range(1, 11)],\n",
    "        \"day_1\": [17, 11, 8, 22, 9, 21, 20, 8, 8, 17],\n",
    "        \"day_2\": [15, 11, 10, 8, 7, 14, 18, 21, 15, 13],\n",
    "        \"day_3\": [16, 15, 24, 24, 8, 23, 19, 23, 16, 10],\n",
    "    }\n",
    ")\n",
    "\n",
    "result = weather_by_day.select(\n",
    "    pl.concat_list(pl.col(\"^day..$\")).alias(\"timeseries\")\n",
    ")\n",
    "print(result)\n",
    "\n",
    "rank_pct = (pl.element().rank(\"min\", descending=True)).round(2)\n",
    "result = result.select(\n",
    "    pl.col(\"timeseries\").list.eval(rank_pct)\n",
    ")\n",
    "print(result)\n",
    "\n",
    "result = weather_by_day.with_columns(\n",
    "            pl.concat_list(pl.col(\"^day..$\")).alias(\"timeseries\")\n",
    "        ).select(\n",
    "            pl.all().exclude(\"timeseries\"),\n",
    "            pl.col(\"timeseries\").list.eval(rank_pct, parallel=True).alias(\"temps_rank\"),\n",
    "        )\n",
    "print(result)"
   ]
  },
  {
   "cell_type": "code",
   "execution_count": 307,
   "metadata": {},
   "outputs": [
    {
     "name": "stdout",
     "output_type": "stream",
     "text": [
      "(100000, 5)\n",
      "Schema({'my_nums': List(Int32)})\n",
      "Schema({'my_nums': Array(Int32, shape=(5,))})\n"
     ]
    }
   ],
   "source": [
    "nums = np.random.randint(100, size=(100_000, 5)).astype(np.int32)\n",
    "\n",
    "df_pandas = pd.DataFrame(nums)\n",
    "print(df_pandas.shape)\n",
    "\n",
    "df_list = pl.DataFrame({\"my_nums\": nums}, schema={\"my_nums\": pl.List(pl.Int32)})\n",
    "print(df_list.schema)\n",
    "\n",
    "df_arr = pl.DataFrame({\"my_nums\": nums})\n",
    "print(df_arr.schema)"
   ]
  },
  {
   "cell_type": "code",
   "execution_count": 304,
   "metadata": {},
   "outputs": [
    {
     "name": "stdout",
     "output_type": "stream",
     "text": [
      "5.81 ms ± 36.4 μs per loop (mean ± std. dev. of 7 runs, 100 loops each)\n"
     ]
    }
   ],
   "source": [
    "%%timeit\n",
    "df_pandas.mean(axis=1)"
   ]
  },
  {
   "cell_type": "code",
   "execution_count": 306,
   "metadata": {},
   "outputs": [
    {
     "name": "stdout",
     "output_type": "stream",
     "text": [
      "1.04 ms ± 9.53 μs per loop (mean ± std. dev. of 7 runs, 1,000 loops each)\n"
     ]
    }
   ],
   "source": [
    "%%timeit\n",
    "df_list.select(\n",
    "    pl.col(\"my_nums\").list.max()\n",
    ")"
   ]
  },
  {
   "cell_type": "code",
   "execution_count": 305,
   "metadata": {},
   "outputs": [
    {
     "name": "stdout",
     "output_type": "stream",
     "text": [
      "830 μs ± 7.45 μs per loop (mean ± std. dev. of 7 runs, 1,000 loops each)\n"
     ]
    }
   ],
   "source": [
    "%%timeit\n",
    "df_arr.select(\n",
    "    pl.col(\"my_nums\").arr.max()\n",
    ")"
   ]
  }
 ],
 "metadata": {
  "kernelspec": {
   "display_name": ".venv",
   "language": "python",
   "name": "python3"
  },
  "language_info": {
   "codemirror_mode": {
    "name": "ipython",
    "version": 3
   },
   "file_extension": ".py",
   "mimetype": "text/x-python",
   "name": "python",
   "nbconvert_exporter": "python",
   "pygments_lexer": "ipython3",
   "version": "3.12.3"
  }
 },
 "nbformat": 4,
 "nbformat_minor": 2
}
